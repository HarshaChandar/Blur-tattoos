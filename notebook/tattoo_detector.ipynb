{
  "nbformat": 4,
  "nbformat_minor": 0,
  "metadata": {
    "colab": {
      "name": "tattoo_detector",
      "provenance": [],
      "toc_visible": true
    },
    "kernelspec": {
      "name": "python3",
      "display_name": "Python 3"
    },
    "accelerator": "GPU"
  },
  "cells": [
    {
      "cell_type": "markdown",
      "metadata": {
        "id": "k7Vi6vfws0Yl",
        "colab_type": "text"
      },
      "source": [
        "## 1. google drive"
      ]
    },
    {
      "cell_type": "code",
      "metadata": {
        "id": "HOXj_5xsgTvf",
        "colab_type": "code",
        "colab": {}
      },
      "source": [
        "from google.colab import drive\n",
        "drive.mount('/content/gdrive')"
      ],
      "execution_count": 0,
      "outputs": []
    },
    {
      "cell_type": "markdown",
      "metadata": {
        "id": "rNw3ZKXPs722",
        "colab_type": "text"
      },
      "source": [
        "google drive에 dataset폴더를 만들고 그안에 x64 복사해놓기."
      ]
    },
    {
      "cell_type": "code",
      "metadata": {
        "id": "hlazKuKhFs11",
        "colab_type": "code",
        "colab": {}
      },
      "source": [
        "!pwd\n",
        "!cp -r ./gdrive/My\\ Drive/dataset/data ./"
      ],
      "execution_count": 0,
      "outputs": []
    },
    {
      "cell_type": "markdown",
      "metadata": {
        "id": "2G-AONRBtiy8",
        "colab_type": "text"
      },
      "source": [
        "## 2. opencv 4.2.0 설치"
      ]
    },
    {
      "cell_type": "code",
      "metadata": {
        "id": "93hgMIXRCsJ2",
        "colab_type": "code",
        "colab": {}
      },
      "source": [
        "!wget -O opencv.zip https://github.com/Itseez/opencv/archive/4.2.0.zip"
      ],
      "execution_count": 0,
      "outputs": []
    },
    {
      "cell_type": "code",
      "metadata": {
        "id": "oBB6J3lhf8P1",
        "colab_type": "code",
        "colab": {}
      },
      "source": [
        "!unzip opencv.zip"
      ],
      "execution_count": 0,
      "outputs": []
    },
    {
      "cell_type": "code",
      "metadata": {
        "id": "Y06yBkOS3VuX",
        "colab_type": "code",
        "colab": {}
      },
      "source": [
        "import os\n",
        "os.chdir(\"./opencv-4.2.0\")\n",
        "!ls"
      ],
      "execution_count": 0,
      "outputs": []
    },
    {
      "cell_type": "markdown",
      "metadata": {
        "id": "LsIUNu4otpZ4",
        "colab_type": "text"
      },
      "source": [
        "## 3. opencv 빌드 및 darknet 설치"
      ]
    },
    {
      "cell_type": "code",
      "metadata": {
        "id": "K_GpsDQ-3Xia",
        "colab_type": "code",
        "colab": {}
      },
      "source": [
        "!mkdir build\n",
        "\n",
        "os.chdir(\"./build\")\n",
        "\n",
        "!cmake -D CMAKE_BUILD_TYPE=RELEASE -D CMAKE_INSTALL_PREFIX=/usr/local -D WITH_TBB=OFF -D WITH_IPP=OFF -D WITH_1394=OFF -D BUILD_WITH_DEBUG_INFO=OFF -D BUILD_DOCS=OFF -D INSTALL_C_EXAMPLES=ON -D INSTALL_PYTHON_EXAMPLES=ON -D BUILD_EXAMPLES=OFF -D BUILD_TESTS=OFF -D BUILD_PERF_TESTS=OFF -D ENABLE_NEON=ON -D WITH_QT=ON -D WITH_OPENGL=ON -D OPENCV_EXTRA_MODULES_PATH=../../opencv_contrib-3.2.0/modules -D WITH_V4L=ON -D WITH_FFMPEG=ON -D WITH_XINE=ON -D BUILD_NEW_PYTHON_SUPPORT=ON -D PYTHON_INCLUDE_DIR=/usr/include/python2.7 -D PYTHON_INCLUDE_DIR2=/usr/include/x86_64-linux-gnu/python2.7 -D PYTHON_LIBRARY=/usr/lib/x86_64-linux-gnu/libpython2.7.so ../\n",
        "\n",
        "!sudo make -j\n",
        "\n",
        "!sudo make install"
      ],
      "execution_count": 0,
      "outputs": []
    },
    {
      "cell_type": "code",
      "metadata": {
        "id": "Z54bCRpw4poN",
        "colab_type": "code",
        "colab": {}
      },
      "source": [
        "!pkg-config --modversion opencv\n",
        "!pkg-config --libs --cflags opencv"
      ],
      "execution_count": 0,
      "outputs": []
    },
    {
      "cell_type": "code",
      "metadata": {
        "id": "M9an3W6q56uH",
        "colab_type": "code",
        "colab": {}
      },
      "source": [
        "!git clone https://github.com/pjreddie/darknet.git \n",
        "os.chdir(\"darknet\")\n",
        "!make"
      ],
      "execution_count": 0,
      "outputs": []
    },
    {
      "cell_type": "code",
      "metadata": {
        "id": "nl9Tngv3B4rT",
        "colab_type": "code",
        "colab": {}
      },
      "source": [
        "rm -rf ./Makefile"
      ],
      "execution_count": 0,
      "outputs": []
    },
    {
      "cell_type": "code",
      "metadata": {
        "id": "Usq1XOKAnifN",
        "colab_type": "code",
        "colab": {}
      },
      "source": [
        "cp ../../../gdrive/My\\ Drive/dataset/Makefile ./"
      ],
      "execution_count": 0,
      "outputs": []
    },
    {
      "cell_type": "code",
      "metadata": {
        "id": "_erd8Y2x5_SG",
        "colab_type": "code",
        "colab": {}
      },
      "source": [
        "!make"
      ],
      "execution_count": 0,
      "outputs": []
    },
    {
      "cell_type": "markdown",
      "metadata": {
        "id": "UHMt4SIzt6v5",
        "colab_type": "text"
      },
      "source": [
        "### darknet 테스트"
      ]
    },
    {
      "cell_type": "code",
      "metadata": {
        "id": "8_qdKJcA6IKn",
        "colab_type": "code",
        "colab": {}
      },
      "source": [
        "!wget https://pjreddie.com/media/files/yolov3.weights   // 기본 버전\n",
        "!wget https://pjreddie.com/media/files/yolov3-tiny.weights   // tiny(가벼운) 버전"
      ],
      "execution_count": 0,
      "outputs": []
    },
    {
      "cell_type": "code",
      "metadata": {
        "id": "o5KTFiJ3_OPr",
        "colab_type": "code",
        "colab": {}
      },
      "source": [
        "!./darknet detect cfg/yolov3.cfg yolov3.weights data/dog.jpg   // 기본 버전\n",
        "!./darknet detect cfg/yolov3-tiny.cfg yolov3-tiny.weights data/dog.jpg   // tiny 버전으로 실행시"
      ],
      "execution_count": 0,
      "outputs": []
    },
    {
      "cell_type": "markdown",
      "metadata": {
        "id": "KZ3h8OmTuEZo",
        "colab_type": "text"
      },
      "source": [
        "### train dataset, yolov3.cfg, detector.c 옮기기\n",
        "\n",
        "google drive에 있는 dataset폴더 안에 yolov3.cfg, detector.c 복사해놓기."
      ]
    },
    {
      "cell_type": "code",
      "metadata": {
        "id": "M2KmhK_bdPYv",
        "colab_type": "code",
        "colab": {}
      },
      "source": [
        "!cp -r ../../../data/img/ ./data/\n",
        "!cp ../../../data/obj.names ../../../data/obj.data ../../../data/train.txt ./data/"
      ],
      "execution_count": 0,
      "outputs": []
    },
    {
      "cell_type": "code",
      "metadata": {
        "id": "41gqa2tggBER",
        "colab_type": "code",
        "colab": {}
      },
      "source": [
        "!wget https://pjreddie.com/media/files/darknet53.conv.74"
      ],
      "execution_count": 0,
      "outputs": []
    },
    {
      "cell_type": "code",
      "metadata": {
        "id": "p-S0HJT-hPih",
        "colab_type": "code",
        "colab": {}
      },
      "source": [
        "!rm -rf ./cfg/yolov3.cfg\n",
        "!cp /content/gdrive/My\\ Drive/dataset/yolov3.cfg ./cfg"
      ],
      "execution_count": 0,
      "outputs": []
    },
    {
      "cell_type": "code",
      "metadata": {
        "id": "fLyZLy3UjBq2",
        "colab_type": "code",
        "colab": {}
      },
      "source": [
        "!rm -rf ./examples/detector.c\n",
        "!cp /content/gdrive/My\\ Drive/dataset/detector.c ./examples/"
      ],
      "execution_count": 0,
      "outputs": []
    },
    {
      "cell_type": "markdown",
      "metadata": {
        "id": "tw73r2X00VLE",
        "colab_type": "text"
      },
      "source": [
        "수정한 yolov3.cfg, detector.c를 바탕으로 프로젝트 다시 빌드."
      ]
    },
    {
      "cell_type": "code",
      "metadata": {
        "id": "Mzyk2lGNeyH2",
        "colab_type": "code",
        "colab": {}
      },
      "source": [
        "!make"
      ],
      "execution_count": 0,
      "outputs": []
    },
    {
      "cell_type": "code",
      "metadata": {
        "id": "cwzhq0z0serz",
        "colab_type": "code",
        "colab": {}
      },
      "source": [
        "pwd"
      ],
      "execution_count": 0,
      "outputs": []
    },
    {
      "cell_type": "markdown",
      "metadata": {
        "id": "xyWhyO5BSVSO",
        "colab_type": "text"
      },
      "source": [
        "## 훈련"
      ]
    },
    {
      "cell_type": "markdown",
      "metadata": {
        "id": "X5izjoAoxbIr",
        "colab_type": "text"
      },
      "source": [
        "### GPU 상태보기"
      ]
    },
    {
      "cell_type": "code",
      "metadata": {
        "id": "fq4K7DkgU495",
        "colab_type": "code",
        "colab": {}
      },
      "source": [
        "!nvidia-smi"
      ],
      "execution_count": 0,
      "outputs": []
    },
    {
      "cell_type": "code",
      "metadata": {
        "id": "PaDEe3CHDqud",
        "colab_type": "code",
        "colab": {}
      },
      "source": [
        "!./darknet detector train data/obj.data cfg/yolov3.cfg darknet53.conv.74 -gpu 0"
      ],
      "execution_count": 0,
      "outputs": []
    },
    {
      "cell_type": "code",
      "metadata": {
        "id": "FVm1Jwu1hIm4",
        "colab_type": "code",
        "colab": {}
      },
      "source": [
        "cd opencv-4.2.0/build/darknet/"
      ],
      "execution_count": 0,
      "outputs": []
    },
    {
      "cell_type": "code",
      "metadata": {
        "id": "jr6abS4uuwU7",
        "colab_type": "code",
        "colab": {}
      },
      "source": [
        "!./darknet detector test data/obj.data cfg/yolov3.cfg backup/yolov3_150.weights data/img/73141837_1290846677706299_2812308481341913094_n.jpg"
      ],
      "execution_count": 0,
      "outputs": []
    },
    # tattoo Detection
    {
      "cell_type": "code",
      "metadata": {
        "id": "v3mk1vhqzsgx",
        "colab_type": "code",
        "colab": {}
      },
      "source": [
        "cd opencv-4.2.0/build/darknet/"
      ],
      "execution_count": 0,
      "outputs": []
    },
    {
      "cell_type": "code",
      "metadata": {
        "id": "8KoEfbQCwPKU",
        "colab_type": "code",
        "colab": {}
      },
      "source": [
        "rm -rf ./backup/*"
      ],
      "execution_count": 0,
      "outputs": []
    },
    {
      "cell_type": "code",
      "metadata": {
        "id": "QkZTwjRWa1nA",
        "colab_type": "code",
        "colab": {}
      },
      "source": [
        ""
      ],
      "execution_count": 0,
      "outputs": []
    }
  ]
}
